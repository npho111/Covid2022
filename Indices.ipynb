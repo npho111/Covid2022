{
 "cells": [
  {
   "cell_type": "code",
   "execution_count": 39,
   "source": [
    "import pandas as pd\n",
    "import geopandas as gpd\n",
    "import numpy as np"
   ],
   "outputs": [],
   "metadata": {}
  },
  {
   "cell_type": "code",
   "execution_count": 19,
   "source": [
    "dfshp = gpd.read_file('/home/kongo/Desktop/Practica Datos Final/SHP Manzanas Censales/Microdatos_Censo_2017%3A_Manzana.shp',index_col=0,encoding='latin-1',error_bad_lines=False,sep=';')"
   ],
   "outputs": [],
   "metadata": {}
  },
  {
   "cell_type": "code",
   "execution_count": 20,
   "source": [
    "dfcsv = pd.read_csv('/home/kongo/Desktop/Practica MAIN/CENSO 2017 INE/BASE DE DATOS CENSO 2017/Censo2017_ManzanaEntidad_CSV/Censo2017_Manzanas.csv',index_col=0,encoding='latin-1',error_bad_lines=False,sep=';')"
   ],
   "outputs": [
    {
     "output_type": "stream",
     "name": "stderr",
     "text": [
      "/home/kongo/.local/lib/python3.9/site-packages/IPython/core/interactiveshell.py:3441: FutureWarning: The error_bad_lines argument has been deprecated and will be removed in a future version.\n",
      "\n",
      "\n",
      "  exec(code_obj, self.user_global_ns, self.user_ns)\n"
     ]
    }
   ],
   "metadata": {}
  },
  {
   "cell_type": "code",
   "execution_count": 32,
   "source": [
    "dfcsv = dfcsv.rename(columns={\"ID_MANZENT\":\"MANZENT\"})\n",
    "df = dfshp.merge(dfcsv,how='left',axis =1,on='MANZENT')"
   ],
   "outputs": [],
   "metadata": {}
  },
  {
   "cell_type": "code",
   "execution_count": 35,
   "source": [
    "df = dfshp.merge(dfcsv,how='left', on='MANZENT')"
   ],
   "outputs": [],
   "metadata": {}
  },
  {
   "cell_type": "code",
   "execution_count": 38,
   "source": [
    "#Indice De vejez, (Edad65ymas)/(Total de personas) por manzana censal.\n",
    "\n",
    "df.EDAD_65YMAS = pd.to_numeric(df.EDAD_65YMAS, errors='coerce').fillna(0)\n",
    "df.PERSONAS = pd.to_numeric(df.PERSONAS, errors='coerce').fillna(0)\n",
    "\n",
    "df['IndiceVejez'] = (df.EDAD_65YMAS)/(df.PERSONAS)\n",
    "df.IndiceVejez = pd.to_numeric(df.IndiceVejez, errors='coerce').fillna(0)"
   ],
   "outputs": [],
   "metadata": {}
  },
  {
   "cell_type": "code",
   "execution_count": 40,
   "source": [
    "# Razón de envejecimiento, número de personas de 65 años o más respecto al número de personas de menos de 15 años, \n",
    "\n",
    "df.EDAD_0A5 = pd.to_numeric(df.EDAD_0A5, errors='coerce').fillna(0)\n",
    "df.EDAD_6A14 = pd.to_numeric(df.EDAD_6A14, errors='coerce').fillna(0)\n",
    "\n",
    "df['RazonEnvej'] = (df.EDAD_65YMAS)/(df.EDAD_0A5 + df.EDAD_6A14)\n",
    "df.RazonEnvej.replace([np.inf, -np.inf], np.nan, inplace=True)\n",
    "df.RazonEnvej = pd.to_numeric(df.RazonEnvej, errors='coerce').fillna(0)"
   ],
   "outputs": [],
   "metadata": {}
  },
  {
   "cell_type": "code",
   "execution_count": 41,
   "source": [
    "#índice de dependencia demográfico ,cociente entre la suma de los grupos de población de menos de 15 y de 65 y más años de edad y la población de 15 a 64 años de edad\n",
    "\n",
    "df.EDAD_15A64 = pd.to_numeric(df.EDAD_15A64, errors='coerce').fillna(0)\n",
    "\n",
    "df['IndiceDepDem'] = (df.EDAD_0A5 + df.EDAD_6A14)/(df.EDAD_15A64)\n",
    "df.IndiceDepDem.replace([np.inf, -np.inf], np.nan, inplace=True)\n",
    "df.IndiceDepDem = pd.to_numeric(df.IndiceDepDem, errors='coerce').fillna(0)"
   ],
   "outputs": [],
   "metadata": {}
  },
  {
   "cell_type": "code",
   "execution_count": 42,
   "source": [
    "# - la razón de sexos que es cuántos hombres por cuántas mujeres hay en un territorio determinado.\n",
    "\n",
    "df.HOMBRES = pd.to_numeric(df.HOMBRES, errors='coerce').fillna(0)\n",
    "df.MUJERES = pd.to_numeric(df.MUJERES, errors='coerce').fillna(0)\n",
    "\n",
    "df['razonSexos'] = (df.HOMBRES)/(df.MUJERES)\n",
    "df.razonSexos.replace([np.inf, -np.inf], np.nan, inplace=True)\n",
    "df.razonSexos = pd.to_numeric(df.razonSexos, errors='coerce').fillna(0)"
   ],
   "outputs": [],
   "metadata": {}
  },
  {
   "cell_type": "code",
   "execution_count": 43,
   "source": [
    "df.to_file(\"DatosManzana.shp\")"
   ],
   "outputs": [
    {
     "output_type": "stream",
     "name": "stderr",
     "text": [
      "/tmp/ipykernel_110539/2760853496.py:1: UserWarning: Column names longer than 10 characters will be truncated when saved to ESRI Shapefile.\n",
      "  df.to_file(\"DatosManzana.shp\")\n"
     ]
    }
   ],
   "metadata": {}
  },
  {
   "cell_type": "code",
   "execution_count": null,
   "source": [
    "#y algún indicador de posición socioeconómica. \n",
    "\n",
    "#indice hacinamiento num casas / personas\n",
    "#3 sub-indicadores de paredes, suelo y techo. promedio lineal de las variables consideradas insuficientes\n",
    "#MATIRREC\n",
    "#Promedio\n",
    "# P03C_5 piso de tierra\n",
    "# P03C_4 Materialidad en el piso de capa de cemento sobre tierra\n",
    "# P03B_6 Materialidad en la cubierta del techo de materiales precarios (lata, cartón, plástico, etc.)\n",
    "# P03B_7 Materialidad en la cubierta del techo sin cubierta sólida del techo\n",
    "# P03B_4 techo fonolita\n",
    "# P015 = Mediagua, mejora, rancho o choza\n",
    "# P013 = vivienda tradicional indigena\n",
    "df['IndiceVivienda'] = df[['P03C_5', 'P03B_6','P03C_4','P03B_7']].mean(axis=1)\n",
    "#Luego, el indicador se normaliza con su inverso aditivo, para asegurar que el valor\n",
    "#máximo sea lo más deseable y el 0 lo menos deseable\n",
    "dfViv = (df.IndiceVivienda-df.IndiceVivienda.min())/(df.IndiceVivienda.max()-df.IndiceVivienda.min())\n",
    "df['IndiceVivienda'] = dfViv\n",
    "\n",
    "\n",
    "#MATIRREC total de viviendas con materialidad irrecuperable\n",
    "\n",
    "dfViv = (df.IndiceVivienda-df.IndiceVivienda.min())/(df.IndiceVivienda.max()-df.IndiceVivienda.min())\n",
    "df['IndiceVivienda'] = dfViv"
   ],
   "outputs": [],
   "metadata": {}
  }
 ],
 "metadata": {
  "orig_nbformat": 4,
  "language_info": {
   "name": "python",
   "version": "3.9.5",
   "mimetype": "text/x-python",
   "codemirror_mode": {
    "name": "ipython",
    "version": 3
   },
   "pygments_lexer": "ipython3",
   "nbconvert_exporter": "python",
   "file_extension": ".py"
  },
  "kernelspec": {
   "name": "python3",
   "display_name": "Python 3.9.5 64-bit"
  },
  "interpreter": {
   "hash": "916dbcbb3f70747c44a77c7bcd40155683ae19c65e1c03b4aa3499c5328201f1"
  }
 },
 "nbformat": 4,
 "nbformat_minor": 2
}